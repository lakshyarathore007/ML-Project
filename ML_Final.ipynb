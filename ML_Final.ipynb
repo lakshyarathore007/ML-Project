{
  "nbformat": 4,
  "nbformat_minor": 0,
  "metadata": {
    "colab": {
      "provenance": [],
      "authorship_tag": "ABX9TyN4btynWYWUFoVD2r8dulDM",
      "include_colab_link": true
    },
    "kernelspec": {
      "name": "python3",
      "display_name": "Python 3"
    },
    "language_info": {
      "name": "python"
    }
  },
  "cells": [
    {
      "cell_type": "markdown",
      "metadata": {
        "id": "view-in-github",
        "colab_type": "text"
      },
      "source": [
        "<a href=\"https://colab.research.google.com/github/lakshyarathore007/ML-Project/blob/main/ML_Final.ipynb\" target=\"_parent\"><img src=\"https://colab.research.google.com/assets/colab-badge.svg\" alt=\"Open In Colab\"/></a>"
      ]
    },
    {
      "cell_type": "code",
      "execution_count": 1,
      "metadata": {
        "colab": {
          "base_uri": "https://localhost:8080/"
        },
        "id": "mgDIo6z9ZbcK",
        "outputId": "2e290a83-03d0-47dc-bcdf-ad6ddc42fcd5"
      },
      "outputs": [
        {
          "output_type": "stream",
          "name": "stdout",
          "text": [
            "Mounted at /content/drive\n"
          ]
        }
      ],
      "source": [
        "from google.colab import drive\n",
        "drive.mount('/content/drive')"
      ]
    },
    {
      "cell_type": "markdown",
      "source": [
        "This code imports the necessary module in Google Colab to enable access to and mount your Google Drive in the Colab environment.\n",
        "\n"
      ],
      "metadata": {
        "id": "IypHC9huzomt"
      }
    },
    {
      "cell_type": "code",
      "source": [
        "import pandas as pd\n",
        "df = pd.read_csv('/content/drive/MyDrive/Dataset/spotify_millsongdata.csv')\n",
        "df.head(5)"
      ],
      "metadata": {
        "colab": {
          "base_uri": "https://localhost:8080/",
          "height": 206
        },
        "id": "8QIKss9QaC2t",
        "outputId": "3eab6db8-f3e9-4eb3-edc5-ec5bc40c23d1"
      },
      "execution_count": 2,
      "outputs": [
        {
          "output_type": "execute_result",
          "data": {
            "text/plain": [
              "  artist                   song                                        link  \\\n",
              "0   ABBA  Ahe's My Kind Of Girl  /a/abba/ahes+my+kind+of+girl_20598417.html   \n",
              "1   ABBA       Andante, Andante       /a/abba/andante+andante_20002708.html   \n",
              "2   ABBA         As Good As New        /a/abba/as+good+as+new_20003033.html   \n",
              "3   ABBA                   Bang                  /a/abba/bang_20598415.html   \n",
              "4   ABBA       Bang-A-Boomerang      /a/abba/bang+a+boomerang_20002668.html   \n",
              "\n",
              "                                                text  \n",
              "0  Look at her face, it's a wonderful face  \\r\\nA...  \n",
              "1  Take it easy with me, please  \\r\\nTouch me gen...  \n",
              "2  I'll never know why I had to go  \\r\\nWhy I had...  \n",
              "3  Making somebody happy is a question of give an...  \n",
              "4  Making somebody happy is a question of give an...  "
            ],
            "text/html": [
              "\n",
              "  <div id=\"df-b3d0800a-8c0b-4963-99d7-6c592141c615\" class=\"colab-df-container\">\n",
              "    <div>\n",
              "<style scoped>\n",
              "    .dataframe tbody tr th:only-of-type {\n",
              "        vertical-align: middle;\n",
              "    }\n",
              "\n",
              "    .dataframe tbody tr th {\n",
              "        vertical-align: top;\n",
              "    }\n",
              "\n",
              "    .dataframe thead th {\n",
              "        text-align: right;\n",
              "    }\n",
              "</style>\n",
              "<table border=\"1\" class=\"dataframe\">\n",
              "  <thead>\n",
              "    <tr style=\"text-align: right;\">\n",
              "      <th></th>\n",
              "      <th>artist</th>\n",
              "      <th>song</th>\n",
              "      <th>link</th>\n",
              "      <th>text</th>\n",
              "    </tr>\n",
              "  </thead>\n",
              "  <tbody>\n",
              "    <tr>\n",
              "      <th>0</th>\n",
              "      <td>ABBA</td>\n",
              "      <td>Ahe's My Kind Of Girl</td>\n",
              "      <td>/a/abba/ahes+my+kind+of+girl_20598417.html</td>\n",
              "      <td>Look at her face, it's a wonderful face  \\r\\nA...</td>\n",
              "    </tr>\n",
              "    <tr>\n",
              "      <th>1</th>\n",
              "      <td>ABBA</td>\n",
              "      <td>Andante, Andante</td>\n",
              "      <td>/a/abba/andante+andante_20002708.html</td>\n",
              "      <td>Take it easy with me, please  \\r\\nTouch me gen...</td>\n",
              "    </tr>\n",
              "    <tr>\n",
              "      <th>2</th>\n",
              "      <td>ABBA</td>\n",
              "      <td>As Good As New</td>\n",
              "      <td>/a/abba/as+good+as+new_20003033.html</td>\n",
              "      <td>I'll never know why I had to go  \\r\\nWhy I had...</td>\n",
              "    </tr>\n",
              "    <tr>\n",
              "      <th>3</th>\n",
              "      <td>ABBA</td>\n",
              "      <td>Bang</td>\n",
              "      <td>/a/abba/bang_20598415.html</td>\n",
              "      <td>Making somebody happy is a question of give an...</td>\n",
              "    </tr>\n",
              "    <tr>\n",
              "      <th>4</th>\n",
              "      <td>ABBA</td>\n",
              "      <td>Bang-A-Boomerang</td>\n",
              "      <td>/a/abba/bang+a+boomerang_20002668.html</td>\n",
              "      <td>Making somebody happy is a question of give an...</td>\n",
              "    </tr>\n",
              "  </tbody>\n",
              "</table>\n",
              "</div>\n",
              "    <div class=\"colab-df-buttons\">\n",
              "\n",
              "  <div class=\"colab-df-container\">\n",
              "    <button class=\"colab-df-convert\" onclick=\"convertToInteractive('df-b3d0800a-8c0b-4963-99d7-6c592141c615')\"\n",
              "            title=\"Convert this dataframe to an interactive table.\"\n",
              "            style=\"display:none;\">\n",
              "\n",
              "  <svg xmlns=\"http://www.w3.org/2000/svg\" height=\"24px\" viewBox=\"0 -960 960 960\">\n",
              "    <path d=\"M120-120v-720h720v720H120Zm60-500h600v-160H180v160Zm220 220h160v-160H400v160Zm0 220h160v-160H400v160ZM180-400h160v-160H180v160Zm440 0h160v-160H620v160ZM180-180h160v-160H180v160Zm440 0h160v-160H620v160Z\"/>\n",
              "  </svg>\n",
              "    </button>\n",
              "\n",
              "  <style>\n",
              "    .colab-df-container {\n",
              "      display:flex;\n",
              "      gap: 12px;\n",
              "    }\n",
              "\n",
              "    .colab-df-convert {\n",
              "      background-color: #E8F0FE;\n",
              "      border: none;\n",
              "      border-radius: 50%;\n",
              "      cursor: pointer;\n",
              "      display: none;\n",
              "      fill: #1967D2;\n",
              "      height: 32px;\n",
              "      padding: 0 0 0 0;\n",
              "      width: 32px;\n",
              "    }\n",
              "\n",
              "    .colab-df-convert:hover {\n",
              "      background-color: #E2EBFA;\n",
              "      box-shadow: 0px 1px 2px rgba(60, 64, 67, 0.3), 0px 1px 3px 1px rgba(60, 64, 67, 0.15);\n",
              "      fill: #174EA6;\n",
              "    }\n",
              "\n",
              "    .colab-df-buttons div {\n",
              "      margin-bottom: 4px;\n",
              "    }\n",
              "\n",
              "    [theme=dark] .colab-df-convert {\n",
              "      background-color: #3B4455;\n",
              "      fill: #D2E3FC;\n",
              "    }\n",
              "\n",
              "    [theme=dark] .colab-df-convert:hover {\n",
              "      background-color: #434B5C;\n",
              "      box-shadow: 0px 1px 3px 1px rgba(0, 0, 0, 0.15);\n",
              "      filter: drop-shadow(0px 1px 2px rgba(0, 0, 0, 0.3));\n",
              "      fill: #FFFFFF;\n",
              "    }\n",
              "  </style>\n",
              "\n",
              "    <script>\n",
              "      const buttonEl =\n",
              "        document.querySelector('#df-b3d0800a-8c0b-4963-99d7-6c592141c615 button.colab-df-convert');\n",
              "      buttonEl.style.display =\n",
              "        google.colab.kernel.accessAllowed ? 'block' : 'none';\n",
              "\n",
              "      async function convertToInteractive(key) {\n",
              "        const element = document.querySelector('#df-b3d0800a-8c0b-4963-99d7-6c592141c615');\n",
              "        const dataTable =\n",
              "          await google.colab.kernel.invokeFunction('convertToInteractive',\n",
              "                                                    [key], {});\n",
              "        if (!dataTable) return;\n",
              "\n",
              "        const docLinkHtml = 'Like what you see? Visit the ' +\n",
              "          '<a target=\"_blank\" href=https://colab.research.google.com/notebooks/data_table.ipynb>data table notebook</a>'\n",
              "          + ' to learn more about interactive tables.';\n",
              "        element.innerHTML = '';\n",
              "        dataTable['output_type'] = 'display_data';\n",
              "        await google.colab.output.renderOutput(dataTable, element);\n",
              "        const docLink = document.createElement('div');\n",
              "        docLink.innerHTML = docLinkHtml;\n",
              "        element.appendChild(docLink);\n",
              "      }\n",
              "    </script>\n",
              "  </div>\n",
              "\n",
              "\n",
              "<div id=\"df-0798bdae-3309-49b2-b5a3-11df1aceb568\">\n",
              "  <button class=\"colab-df-quickchart\" onclick=\"quickchart('df-0798bdae-3309-49b2-b5a3-11df1aceb568')\"\n",
              "            title=\"Suggest charts\"\n",
              "            style=\"display:none;\">\n",
              "\n",
              "<svg xmlns=\"http://www.w3.org/2000/svg\" height=\"24px\"viewBox=\"0 0 24 24\"\n",
              "     width=\"24px\">\n",
              "    <g>\n",
              "        <path d=\"M19 3H5c-1.1 0-2 .9-2 2v14c0 1.1.9 2 2 2h14c1.1 0 2-.9 2-2V5c0-1.1-.9-2-2-2zM9 17H7v-7h2v7zm4 0h-2V7h2v10zm4 0h-2v-4h2v4z\"/>\n",
              "    </g>\n",
              "</svg>\n",
              "  </button>\n",
              "\n",
              "<style>\n",
              "  .colab-df-quickchart {\n",
              "      --bg-color: #E8F0FE;\n",
              "      --fill-color: #1967D2;\n",
              "      --hover-bg-color: #E2EBFA;\n",
              "      --hover-fill-color: #174EA6;\n",
              "      --disabled-fill-color: #AAA;\n",
              "      --disabled-bg-color: #DDD;\n",
              "  }\n",
              "\n",
              "  [theme=dark] .colab-df-quickchart {\n",
              "      --bg-color: #3B4455;\n",
              "      --fill-color: #D2E3FC;\n",
              "      --hover-bg-color: #434B5C;\n",
              "      --hover-fill-color: #FFFFFF;\n",
              "      --disabled-bg-color: #3B4455;\n",
              "      --disabled-fill-color: #666;\n",
              "  }\n",
              "\n",
              "  .colab-df-quickchart {\n",
              "    background-color: var(--bg-color);\n",
              "    border: none;\n",
              "    border-radius: 50%;\n",
              "    cursor: pointer;\n",
              "    display: none;\n",
              "    fill: var(--fill-color);\n",
              "    height: 32px;\n",
              "    padding: 0;\n",
              "    width: 32px;\n",
              "  }\n",
              "\n",
              "  .colab-df-quickchart:hover {\n",
              "    background-color: var(--hover-bg-color);\n",
              "    box-shadow: 0 1px 2px rgba(60, 64, 67, 0.3), 0 1px 3px 1px rgba(60, 64, 67, 0.15);\n",
              "    fill: var(--button-hover-fill-color);\n",
              "  }\n",
              "\n",
              "  .colab-df-quickchart-complete:disabled,\n",
              "  .colab-df-quickchart-complete:disabled:hover {\n",
              "    background-color: var(--disabled-bg-color);\n",
              "    fill: var(--disabled-fill-color);\n",
              "    box-shadow: none;\n",
              "  }\n",
              "\n",
              "  .colab-df-spinner {\n",
              "    border: 2px solid var(--fill-color);\n",
              "    border-color: transparent;\n",
              "    border-bottom-color: var(--fill-color);\n",
              "    animation:\n",
              "      spin 1s steps(1) infinite;\n",
              "  }\n",
              "\n",
              "  @keyframes spin {\n",
              "    0% {\n",
              "      border-color: transparent;\n",
              "      border-bottom-color: var(--fill-color);\n",
              "      border-left-color: var(--fill-color);\n",
              "    }\n",
              "    20% {\n",
              "      border-color: transparent;\n",
              "      border-left-color: var(--fill-color);\n",
              "      border-top-color: var(--fill-color);\n",
              "    }\n",
              "    30% {\n",
              "      border-color: transparent;\n",
              "      border-left-color: var(--fill-color);\n",
              "      border-top-color: var(--fill-color);\n",
              "      border-right-color: var(--fill-color);\n",
              "    }\n",
              "    40% {\n",
              "      border-color: transparent;\n",
              "      border-right-color: var(--fill-color);\n",
              "      border-top-color: var(--fill-color);\n",
              "    }\n",
              "    60% {\n",
              "      border-color: transparent;\n",
              "      border-right-color: var(--fill-color);\n",
              "    }\n",
              "    80% {\n",
              "      border-color: transparent;\n",
              "      border-right-color: var(--fill-color);\n",
              "      border-bottom-color: var(--fill-color);\n",
              "    }\n",
              "    90% {\n",
              "      border-color: transparent;\n",
              "      border-bottom-color: var(--fill-color);\n",
              "    }\n",
              "  }\n",
              "</style>\n",
              "\n",
              "  <script>\n",
              "    async function quickchart(key) {\n",
              "      const quickchartButtonEl =\n",
              "        document.querySelector('#' + key + ' button');\n",
              "      quickchartButtonEl.disabled = true;  // To prevent multiple clicks.\n",
              "      quickchartButtonEl.classList.add('colab-df-spinner');\n",
              "      try {\n",
              "        const charts = await google.colab.kernel.invokeFunction(\n",
              "            'suggestCharts', [key], {});\n",
              "      } catch (error) {\n",
              "        console.error('Error during call to suggestCharts:', error);\n",
              "      }\n",
              "      quickchartButtonEl.classList.remove('colab-df-spinner');\n",
              "      quickchartButtonEl.classList.add('colab-df-quickchart-complete');\n",
              "    }\n",
              "    (() => {\n",
              "      let quickchartButtonEl =\n",
              "        document.querySelector('#df-0798bdae-3309-49b2-b5a3-11df1aceb568 button');\n",
              "      quickchartButtonEl.style.display =\n",
              "        google.colab.kernel.accessAllowed ? 'block' : 'none';\n",
              "    })();\n",
              "  </script>\n",
              "</div>\n",
              "    </div>\n",
              "  </div>\n"
            ]
          },
          "metadata": {},
          "execution_count": 2
        }
      ]
    },
    {
      "cell_type": "markdown",
      "source": [
        "\n",
        "1. **Pandas:**  Pandas is a Python library used for data manipulation and analysis. It offers tools to read, clean, transform, and analyze data, primarily using DataFrame structures for tabular data handling.\n",
        "\n",
        "2. **df = pd.read_csv('/content/drive/MyDrive/Dataset/spotify_millsongdata.csv'):** Reads a CSV file named 'spotify_millsongdata.csv' from a specific Google Drive path and loads its data into a Pandas DataFrame named 'df'.\n"
      ],
      "metadata": {
        "id": "B0-JsT2c1NNC"
      }
    },
    {
      "cell_type": "code",
      "source": [
        "df.tail(5)"
      ],
      "metadata": {
        "colab": {
          "base_uri": "https://localhost:8080/",
          "height": 206
        },
        "id": "W0iOUvmRcEjO",
        "outputId": "f0bcdbac-703b-493c-b903-38caccb37893"
      },
      "execution_count": 3,
      "outputs": [
        {
          "output_type": "execute_result",
          "data": {
            "text/plain": [
              "             artist           song  \\\n",
              "57645  Ziggy Marley  Good Old Days   \n",
              "57646  Ziggy Marley  Hand To Mouth   \n",
              "57647          Zwan   Come With Me   \n",
              "57648          Zwan         Desire   \n",
              "57649          Zwan      Heartsong   \n",
              "\n",
              "                                              link  \\\n",
              "57645  /z/ziggy+marley/good+old+days_10198588.html   \n",
              "57646  /z/ziggy+marley/hand+to+mouth_20531167.html   \n",
              "57647           /z/zwan/come+with+me_20148981.html   \n",
              "57648                 /z/zwan/desire_20148986.html   \n",
              "57649              /z/zwan/heartsong_20148991.html   \n",
              "\n",
              "                                                    text  \n",
              "57645  Irie days come on play  \\r\\nLet the angels fly...  \n",
              "57646  Power to the workers  \\r\\nMore power  \\r\\nPowe...  \n",
              "57647  all you need  \\r\\nis something i'll believe  \\...  \n",
              "57648  northern star  \\r\\nam i frightened  \\r\\nwhere ...  \n",
              "57649  come in  \\r\\nmake yourself at home  \\r\\ni'm a ...  "
            ],
            "text/html": [
              "\n",
              "  <div id=\"df-a7d1b738-0125-4e07-99f3-73e16a195f93\" class=\"colab-df-container\">\n",
              "    <div>\n",
              "<style scoped>\n",
              "    .dataframe tbody tr th:only-of-type {\n",
              "        vertical-align: middle;\n",
              "    }\n",
              "\n",
              "    .dataframe tbody tr th {\n",
              "        vertical-align: top;\n",
              "    }\n",
              "\n",
              "    .dataframe thead th {\n",
              "        text-align: right;\n",
              "    }\n",
              "</style>\n",
              "<table border=\"1\" class=\"dataframe\">\n",
              "  <thead>\n",
              "    <tr style=\"text-align: right;\">\n",
              "      <th></th>\n",
              "      <th>artist</th>\n",
              "      <th>song</th>\n",
              "      <th>link</th>\n",
              "      <th>text</th>\n",
              "    </tr>\n",
              "  </thead>\n",
              "  <tbody>\n",
              "    <tr>\n",
              "      <th>57645</th>\n",
              "      <td>Ziggy Marley</td>\n",
              "      <td>Good Old Days</td>\n",
              "      <td>/z/ziggy+marley/good+old+days_10198588.html</td>\n",
              "      <td>Irie days come on play  \\r\\nLet the angels fly...</td>\n",
              "    </tr>\n",
              "    <tr>\n",
              "      <th>57646</th>\n",
              "      <td>Ziggy Marley</td>\n",
              "      <td>Hand To Mouth</td>\n",
              "      <td>/z/ziggy+marley/hand+to+mouth_20531167.html</td>\n",
              "      <td>Power to the workers  \\r\\nMore power  \\r\\nPowe...</td>\n",
              "    </tr>\n",
              "    <tr>\n",
              "      <th>57647</th>\n",
              "      <td>Zwan</td>\n",
              "      <td>Come With Me</td>\n",
              "      <td>/z/zwan/come+with+me_20148981.html</td>\n",
              "      <td>all you need  \\r\\nis something i'll believe  \\...</td>\n",
              "    </tr>\n",
              "    <tr>\n",
              "      <th>57648</th>\n",
              "      <td>Zwan</td>\n",
              "      <td>Desire</td>\n",
              "      <td>/z/zwan/desire_20148986.html</td>\n",
              "      <td>northern star  \\r\\nam i frightened  \\r\\nwhere ...</td>\n",
              "    </tr>\n",
              "    <tr>\n",
              "      <th>57649</th>\n",
              "      <td>Zwan</td>\n",
              "      <td>Heartsong</td>\n",
              "      <td>/z/zwan/heartsong_20148991.html</td>\n",
              "      <td>come in  \\r\\nmake yourself at home  \\r\\ni'm a ...</td>\n",
              "    </tr>\n",
              "  </tbody>\n",
              "</table>\n",
              "</div>\n",
              "    <div class=\"colab-df-buttons\">\n",
              "\n",
              "  <div class=\"colab-df-container\">\n",
              "    <button class=\"colab-df-convert\" onclick=\"convertToInteractive('df-a7d1b738-0125-4e07-99f3-73e16a195f93')\"\n",
              "            title=\"Convert this dataframe to an interactive table.\"\n",
              "            style=\"display:none;\">\n",
              "\n",
              "  <svg xmlns=\"http://www.w3.org/2000/svg\" height=\"24px\" viewBox=\"0 -960 960 960\">\n",
              "    <path d=\"M120-120v-720h720v720H120Zm60-500h600v-160H180v160Zm220 220h160v-160H400v160Zm0 220h160v-160H400v160ZM180-400h160v-160H180v160Zm440 0h160v-160H620v160ZM180-180h160v-160H180v160Zm440 0h160v-160H620v160Z\"/>\n",
              "  </svg>\n",
              "    </button>\n",
              "\n",
              "  <style>\n",
              "    .colab-df-container {\n",
              "      display:flex;\n",
              "      gap: 12px;\n",
              "    }\n",
              "\n",
              "    .colab-df-convert {\n",
              "      background-color: #E8F0FE;\n",
              "      border: none;\n",
              "      border-radius: 50%;\n",
              "      cursor: pointer;\n",
              "      display: none;\n",
              "      fill: #1967D2;\n",
              "      height: 32px;\n",
              "      padding: 0 0 0 0;\n",
              "      width: 32px;\n",
              "    }\n",
              "\n",
              "    .colab-df-convert:hover {\n",
              "      background-color: #E2EBFA;\n",
              "      box-shadow: 0px 1px 2px rgba(60, 64, 67, 0.3), 0px 1px 3px 1px rgba(60, 64, 67, 0.15);\n",
              "      fill: #174EA6;\n",
              "    }\n",
              "\n",
              "    .colab-df-buttons div {\n",
              "      margin-bottom: 4px;\n",
              "    }\n",
              "\n",
              "    [theme=dark] .colab-df-convert {\n",
              "      background-color: #3B4455;\n",
              "      fill: #D2E3FC;\n",
              "    }\n",
              "\n",
              "    [theme=dark] .colab-df-convert:hover {\n",
              "      background-color: #434B5C;\n",
              "      box-shadow: 0px 1px 3px 1px rgba(0, 0, 0, 0.15);\n",
              "      filter: drop-shadow(0px 1px 2px rgba(0, 0, 0, 0.3));\n",
              "      fill: #FFFFFF;\n",
              "    }\n",
              "  </style>\n",
              "\n",
              "    <script>\n",
              "      const buttonEl =\n",
              "        document.querySelector('#df-a7d1b738-0125-4e07-99f3-73e16a195f93 button.colab-df-convert');\n",
              "      buttonEl.style.display =\n",
              "        google.colab.kernel.accessAllowed ? 'block' : 'none';\n",
              "\n",
              "      async function convertToInteractive(key) {\n",
              "        const element = document.querySelector('#df-a7d1b738-0125-4e07-99f3-73e16a195f93');\n",
              "        const dataTable =\n",
              "          await google.colab.kernel.invokeFunction('convertToInteractive',\n",
              "                                                    [key], {});\n",
              "        if (!dataTable) return;\n",
              "\n",
              "        const docLinkHtml = 'Like what you see? Visit the ' +\n",
              "          '<a target=\"_blank\" href=https://colab.research.google.com/notebooks/data_table.ipynb>data table notebook</a>'\n",
              "          + ' to learn more about interactive tables.';\n",
              "        element.innerHTML = '';\n",
              "        dataTable['output_type'] = 'display_data';\n",
              "        await google.colab.output.renderOutput(dataTable, element);\n",
              "        const docLink = document.createElement('div');\n",
              "        docLink.innerHTML = docLinkHtml;\n",
              "        element.appendChild(docLink);\n",
              "      }\n",
              "    </script>\n",
              "  </div>\n",
              "\n",
              "\n",
              "<div id=\"df-38daeca9-ae34-419d-b70f-f0b9be60fa75\">\n",
              "  <button class=\"colab-df-quickchart\" onclick=\"quickchart('df-38daeca9-ae34-419d-b70f-f0b9be60fa75')\"\n",
              "            title=\"Suggest charts\"\n",
              "            style=\"display:none;\">\n",
              "\n",
              "<svg xmlns=\"http://www.w3.org/2000/svg\" height=\"24px\"viewBox=\"0 0 24 24\"\n",
              "     width=\"24px\">\n",
              "    <g>\n",
              "        <path d=\"M19 3H5c-1.1 0-2 .9-2 2v14c0 1.1.9 2 2 2h14c1.1 0 2-.9 2-2V5c0-1.1-.9-2-2-2zM9 17H7v-7h2v7zm4 0h-2V7h2v10zm4 0h-2v-4h2v4z\"/>\n",
              "    </g>\n",
              "</svg>\n",
              "  </button>\n",
              "\n",
              "<style>\n",
              "  .colab-df-quickchart {\n",
              "      --bg-color: #E8F0FE;\n",
              "      --fill-color: #1967D2;\n",
              "      --hover-bg-color: #E2EBFA;\n",
              "      --hover-fill-color: #174EA6;\n",
              "      --disabled-fill-color: #AAA;\n",
              "      --disabled-bg-color: #DDD;\n",
              "  }\n",
              "\n",
              "  [theme=dark] .colab-df-quickchart {\n",
              "      --bg-color: #3B4455;\n",
              "      --fill-color: #D2E3FC;\n",
              "      --hover-bg-color: #434B5C;\n",
              "      --hover-fill-color: #FFFFFF;\n",
              "      --disabled-bg-color: #3B4455;\n",
              "      --disabled-fill-color: #666;\n",
              "  }\n",
              "\n",
              "  .colab-df-quickchart {\n",
              "    background-color: var(--bg-color);\n",
              "    border: none;\n",
              "    border-radius: 50%;\n",
              "    cursor: pointer;\n",
              "    display: none;\n",
              "    fill: var(--fill-color);\n",
              "    height: 32px;\n",
              "    padding: 0;\n",
              "    width: 32px;\n",
              "  }\n",
              "\n",
              "  .colab-df-quickchart:hover {\n",
              "    background-color: var(--hover-bg-color);\n",
              "    box-shadow: 0 1px 2px rgba(60, 64, 67, 0.3), 0 1px 3px 1px rgba(60, 64, 67, 0.15);\n",
              "    fill: var(--button-hover-fill-color);\n",
              "  }\n",
              "\n",
              "  .colab-df-quickchart-complete:disabled,\n",
              "  .colab-df-quickchart-complete:disabled:hover {\n",
              "    background-color: var(--disabled-bg-color);\n",
              "    fill: var(--disabled-fill-color);\n",
              "    box-shadow: none;\n",
              "  }\n",
              "\n",
              "  .colab-df-spinner {\n",
              "    border: 2px solid var(--fill-color);\n",
              "    border-color: transparent;\n",
              "    border-bottom-color: var(--fill-color);\n",
              "    animation:\n",
              "      spin 1s steps(1) infinite;\n",
              "  }\n",
              "\n",
              "  @keyframes spin {\n",
              "    0% {\n",
              "      border-color: transparent;\n",
              "      border-bottom-color: var(--fill-color);\n",
              "      border-left-color: var(--fill-color);\n",
              "    }\n",
              "    20% {\n",
              "      border-color: transparent;\n",
              "      border-left-color: var(--fill-color);\n",
              "      border-top-color: var(--fill-color);\n",
              "    }\n",
              "    30% {\n",
              "      border-color: transparent;\n",
              "      border-left-color: var(--fill-color);\n",
              "      border-top-color: var(--fill-color);\n",
              "      border-right-color: var(--fill-color);\n",
              "    }\n",
              "    40% {\n",
              "      border-color: transparent;\n",
              "      border-right-color: var(--fill-color);\n",
              "      border-top-color: var(--fill-color);\n",
              "    }\n",
              "    60% {\n",
              "      border-color: transparent;\n",
              "      border-right-color: var(--fill-color);\n",
              "    }\n",
              "    80% {\n",
              "      border-color: transparent;\n",
              "      border-right-color: var(--fill-color);\n",
              "      border-bottom-color: var(--fill-color);\n",
              "    }\n",
              "    90% {\n",
              "      border-color: transparent;\n",
              "      border-bottom-color: var(--fill-color);\n",
              "    }\n",
              "  }\n",
              "</style>\n",
              "\n",
              "  <script>\n",
              "    async function quickchart(key) {\n",
              "      const quickchartButtonEl =\n",
              "        document.querySelector('#' + key + ' button');\n",
              "      quickchartButtonEl.disabled = true;  // To prevent multiple clicks.\n",
              "      quickchartButtonEl.classList.add('colab-df-spinner');\n",
              "      try {\n",
              "        const charts = await google.colab.kernel.invokeFunction(\n",
              "            'suggestCharts', [key], {});\n",
              "      } catch (error) {\n",
              "        console.error('Error during call to suggestCharts:', error);\n",
              "      }\n",
              "      quickchartButtonEl.classList.remove('colab-df-spinner');\n",
              "      quickchartButtonEl.classList.add('colab-df-quickchart-complete');\n",
              "    }\n",
              "    (() => {\n",
              "      let quickchartButtonEl =\n",
              "        document.querySelector('#df-38daeca9-ae34-419d-b70f-f0b9be60fa75 button');\n",
              "      quickchartButtonEl.style.display =\n",
              "        google.colab.kernel.accessAllowed ? 'block' : 'none';\n",
              "    })();\n",
              "  </script>\n",
              "</div>\n",
              "    </div>\n",
              "  </div>\n"
            ]
          },
          "metadata": {},
          "execution_count": 3
        }
      ]
    },
    {
      "cell_type": "code",
      "source": [
        "df.shape"
      ],
      "metadata": {
        "colab": {
          "base_uri": "https://localhost:8080/"
        },
        "id": "bbkmtLT6cJL1",
        "outputId": "26c5bb98-e9a1-4274-c505-23ac4ce559e2"
      },
      "execution_count": 4,
      "outputs": [
        {
          "output_type": "execute_result",
          "data": {
            "text/plain": [
              "(57650, 4)"
            ]
          },
          "metadata": {},
          "execution_count": 4
        }
      ]
    },
    {
      "cell_type": "code",
      "source": [
        "df.isnull().sum()"
      ],
      "metadata": {
        "colab": {
          "base_uri": "https://localhost:8080/"
        },
        "id": "lGkkmJw5cPC-",
        "outputId": "9132fb67-fc3f-4d2a-b27e-a9cb6e51a214"
      },
      "execution_count": 5,
      "outputs": [
        {
          "output_type": "execute_result",
          "data": {
            "text/plain": [
              "artist    0\n",
              "song      0\n",
              "link      0\n",
              "text      0\n",
              "dtype: int64"
            ]
          },
          "metadata": {},
          "execution_count": 5
        }
      ]
    },
    {
      "cell_type": "code",
      "source": [
        "df=df.sample(7000).drop('link',axis=1).reset_index(drop=True)\n",
        "df.head(10)"
      ],
      "metadata": {
        "colab": {
          "base_uri": "https://localhost:8080/",
          "height": 363
        },
        "id": "uh5AxSbQcWIe",
        "outputId": "431eaa89-4a4c-4619-c36a-877c254c631e"
      },
      "execution_count": 6,
      "outputs": [
        {
          "output_type": "execute_result",
          "data": {
            "text/plain": [
              "            artist                                 song  \\\n",
              "0   Kirsty Maccoll               Can't Stop Killing You   \n",
              "1     Natalie Cole                         You Gotta Be   \n",
              "2        Amy Grant                  Politics Of Kissing   \n",
              "3         Bee Gees           Every Second, Every Minute   \n",
              "4        Nick Cave            That's What Jazz Is To Me   \n",
              "5    Kylie Minogue                                 Glow   \n",
              "6        Kate Bush                     Oh To Be In Love   \n",
              "7       Gucci Mane                             16 Fever   \n",
              "8  Lata Mangeshkar  Mere Do Naina Matawaare Kis Ke Liye   \n",
              "9   Modern Talking                Nothing But The Truth   \n",
              "\n",
              "                                                text  \n",
              "0  He blew into town like a paper sack  \\r\\nIn a ...  \n",
              "1  Listen as your day unfolds  \\r\\nChallenge what...  \n",
              "2  She's looking back to see if he's looking at h...  \n",
              "3  Send out your invitations  \\r\\nThere's gonna b...  \n",
              "4  Jazz  \\r\\nFire eating drag-queens dressed as s...  \n",
              "5  [Verse:]  \\r\\nGlow, silhouettes and shadows  \\...  \n",
              "6  As the light hits you, as you shift along the ...  \n",
              "7  [Bridge]  \\r\\nI'm charging 16 fever, 16 fever,...  \n",
              "8  Mere do naina matawaare kis ke liye  \\r\\nBecha...  \n",
              "9  Nothing but the truth (nothing but the truth) ...  "
            ],
            "text/html": [
              "\n",
              "  <div id=\"df-826693c5-394b-4085-ac33-f481d1b9302d\" class=\"colab-df-container\">\n",
              "    <div>\n",
              "<style scoped>\n",
              "    .dataframe tbody tr th:only-of-type {\n",
              "        vertical-align: middle;\n",
              "    }\n",
              "\n",
              "    .dataframe tbody tr th {\n",
              "        vertical-align: top;\n",
              "    }\n",
              "\n",
              "    .dataframe thead th {\n",
              "        text-align: right;\n",
              "    }\n",
              "</style>\n",
              "<table border=\"1\" class=\"dataframe\">\n",
              "  <thead>\n",
              "    <tr style=\"text-align: right;\">\n",
              "      <th></th>\n",
              "      <th>artist</th>\n",
              "      <th>song</th>\n",
              "      <th>text</th>\n",
              "    </tr>\n",
              "  </thead>\n",
              "  <tbody>\n",
              "    <tr>\n",
              "      <th>0</th>\n",
              "      <td>Kirsty Maccoll</td>\n",
              "      <td>Can't Stop Killing You</td>\n",
              "      <td>He blew into town like a paper sack  \\r\\nIn a ...</td>\n",
              "    </tr>\n",
              "    <tr>\n",
              "      <th>1</th>\n",
              "      <td>Natalie Cole</td>\n",
              "      <td>You Gotta Be</td>\n",
              "      <td>Listen as your day unfolds  \\r\\nChallenge what...</td>\n",
              "    </tr>\n",
              "    <tr>\n",
              "      <th>2</th>\n",
              "      <td>Amy Grant</td>\n",
              "      <td>Politics Of Kissing</td>\n",
              "      <td>She's looking back to see if he's looking at h...</td>\n",
              "    </tr>\n",
              "    <tr>\n",
              "      <th>3</th>\n",
              "      <td>Bee Gees</td>\n",
              "      <td>Every Second, Every Minute</td>\n",
              "      <td>Send out your invitations  \\r\\nThere's gonna b...</td>\n",
              "    </tr>\n",
              "    <tr>\n",
              "      <th>4</th>\n",
              "      <td>Nick Cave</td>\n",
              "      <td>That's What Jazz Is To Me</td>\n",
              "      <td>Jazz  \\r\\nFire eating drag-queens dressed as s...</td>\n",
              "    </tr>\n",
              "    <tr>\n",
              "      <th>5</th>\n",
              "      <td>Kylie Minogue</td>\n",
              "      <td>Glow</td>\n",
              "      <td>[Verse:]  \\r\\nGlow, silhouettes and shadows  \\...</td>\n",
              "    </tr>\n",
              "    <tr>\n",
              "      <th>6</th>\n",
              "      <td>Kate Bush</td>\n",
              "      <td>Oh To Be In Love</td>\n",
              "      <td>As the light hits you, as you shift along the ...</td>\n",
              "    </tr>\n",
              "    <tr>\n",
              "      <th>7</th>\n",
              "      <td>Gucci Mane</td>\n",
              "      <td>16 Fever</td>\n",
              "      <td>[Bridge]  \\r\\nI'm charging 16 fever, 16 fever,...</td>\n",
              "    </tr>\n",
              "    <tr>\n",
              "      <th>8</th>\n",
              "      <td>Lata Mangeshkar</td>\n",
              "      <td>Mere Do Naina Matawaare Kis Ke Liye</td>\n",
              "      <td>Mere do naina matawaare kis ke liye  \\r\\nBecha...</td>\n",
              "    </tr>\n",
              "    <tr>\n",
              "      <th>9</th>\n",
              "      <td>Modern Talking</td>\n",
              "      <td>Nothing But The Truth</td>\n",
              "      <td>Nothing but the truth (nothing but the truth) ...</td>\n",
              "    </tr>\n",
              "  </tbody>\n",
              "</table>\n",
              "</div>\n",
              "    <div class=\"colab-df-buttons\">\n",
              "\n",
              "  <div class=\"colab-df-container\">\n",
              "    <button class=\"colab-df-convert\" onclick=\"convertToInteractive('df-826693c5-394b-4085-ac33-f481d1b9302d')\"\n",
              "            title=\"Convert this dataframe to an interactive table.\"\n",
              "            style=\"display:none;\">\n",
              "\n",
              "  <svg xmlns=\"http://www.w3.org/2000/svg\" height=\"24px\" viewBox=\"0 -960 960 960\">\n",
              "    <path d=\"M120-120v-720h720v720H120Zm60-500h600v-160H180v160Zm220 220h160v-160H400v160Zm0 220h160v-160H400v160ZM180-400h160v-160H180v160Zm440 0h160v-160H620v160ZM180-180h160v-160H180v160Zm440 0h160v-160H620v160Z\"/>\n",
              "  </svg>\n",
              "    </button>\n",
              "\n",
              "  <style>\n",
              "    .colab-df-container {\n",
              "      display:flex;\n",
              "      gap: 12px;\n",
              "    }\n",
              "\n",
              "    .colab-df-convert {\n",
              "      background-color: #E8F0FE;\n",
              "      border: none;\n",
              "      border-radius: 50%;\n",
              "      cursor: pointer;\n",
              "      display: none;\n",
              "      fill: #1967D2;\n",
              "      height: 32px;\n",
              "      padding: 0 0 0 0;\n",
              "      width: 32px;\n",
              "    }\n",
              "\n",
              "    .colab-df-convert:hover {\n",
              "      background-color: #E2EBFA;\n",
              "      box-shadow: 0px 1px 2px rgba(60, 64, 67, 0.3), 0px 1px 3px 1px rgba(60, 64, 67, 0.15);\n",
              "      fill: #174EA6;\n",
              "    }\n",
              "\n",
              "    .colab-df-buttons div {\n",
              "      margin-bottom: 4px;\n",
              "    }\n",
              "\n",
              "    [theme=dark] .colab-df-convert {\n",
              "      background-color: #3B4455;\n",
              "      fill: #D2E3FC;\n",
              "    }\n",
              "\n",
              "    [theme=dark] .colab-df-convert:hover {\n",
              "      background-color: #434B5C;\n",
              "      box-shadow: 0px 1px 3px 1px rgba(0, 0, 0, 0.15);\n",
              "      filter: drop-shadow(0px 1px 2px rgba(0, 0, 0, 0.3));\n",
              "      fill: #FFFFFF;\n",
              "    }\n",
              "  </style>\n",
              "\n",
              "    <script>\n",
              "      const buttonEl =\n",
              "        document.querySelector('#df-826693c5-394b-4085-ac33-f481d1b9302d button.colab-df-convert');\n",
              "      buttonEl.style.display =\n",
              "        google.colab.kernel.accessAllowed ? 'block' : 'none';\n",
              "\n",
              "      async function convertToInteractive(key) {\n",
              "        const element = document.querySelector('#df-826693c5-394b-4085-ac33-f481d1b9302d');\n",
              "        const dataTable =\n",
              "          await google.colab.kernel.invokeFunction('convertToInteractive',\n",
              "                                                    [key], {});\n",
              "        if (!dataTable) return;\n",
              "\n",
              "        const docLinkHtml = 'Like what you see? Visit the ' +\n",
              "          '<a target=\"_blank\" href=https://colab.research.google.com/notebooks/data_table.ipynb>data table notebook</a>'\n",
              "          + ' to learn more about interactive tables.';\n",
              "        element.innerHTML = '';\n",
              "        dataTable['output_type'] = 'display_data';\n",
              "        await google.colab.output.renderOutput(dataTable, element);\n",
              "        const docLink = document.createElement('div');\n",
              "        docLink.innerHTML = docLinkHtml;\n",
              "        element.appendChild(docLink);\n",
              "      }\n",
              "    </script>\n",
              "  </div>\n",
              "\n",
              "\n",
              "<div id=\"df-9623eea7-3436-4501-9ba0-2a6357847437\">\n",
              "  <button class=\"colab-df-quickchart\" onclick=\"quickchart('df-9623eea7-3436-4501-9ba0-2a6357847437')\"\n",
              "            title=\"Suggest charts\"\n",
              "            style=\"display:none;\">\n",
              "\n",
              "<svg xmlns=\"http://www.w3.org/2000/svg\" height=\"24px\"viewBox=\"0 0 24 24\"\n",
              "     width=\"24px\">\n",
              "    <g>\n",
              "        <path d=\"M19 3H5c-1.1 0-2 .9-2 2v14c0 1.1.9 2 2 2h14c1.1 0 2-.9 2-2V5c0-1.1-.9-2-2-2zM9 17H7v-7h2v7zm4 0h-2V7h2v10zm4 0h-2v-4h2v4z\"/>\n",
              "    </g>\n",
              "</svg>\n",
              "  </button>\n",
              "\n",
              "<style>\n",
              "  .colab-df-quickchart {\n",
              "      --bg-color: #E8F0FE;\n",
              "      --fill-color: #1967D2;\n",
              "      --hover-bg-color: #E2EBFA;\n",
              "      --hover-fill-color: #174EA6;\n",
              "      --disabled-fill-color: #AAA;\n",
              "      --disabled-bg-color: #DDD;\n",
              "  }\n",
              "\n",
              "  [theme=dark] .colab-df-quickchart {\n",
              "      --bg-color: #3B4455;\n",
              "      --fill-color: #D2E3FC;\n",
              "      --hover-bg-color: #434B5C;\n",
              "      --hover-fill-color: #FFFFFF;\n",
              "      --disabled-bg-color: #3B4455;\n",
              "      --disabled-fill-color: #666;\n",
              "  }\n",
              "\n",
              "  .colab-df-quickchart {\n",
              "    background-color: var(--bg-color);\n",
              "    border: none;\n",
              "    border-radius: 50%;\n",
              "    cursor: pointer;\n",
              "    display: none;\n",
              "    fill: var(--fill-color);\n",
              "    height: 32px;\n",
              "    padding: 0;\n",
              "    width: 32px;\n",
              "  }\n",
              "\n",
              "  .colab-df-quickchart:hover {\n",
              "    background-color: var(--hover-bg-color);\n",
              "    box-shadow: 0 1px 2px rgba(60, 64, 67, 0.3), 0 1px 3px 1px rgba(60, 64, 67, 0.15);\n",
              "    fill: var(--button-hover-fill-color);\n",
              "  }\n",
              "\n",
              "  .colab-df-quickchart-complete:disabled,\n",
              "  .colab-df-quickchart-complete:disabled:hover {\n",
              "    background-color: var(--disabled-bg-color);\n",
              "    fill: var(--disabled-fill-color);\n",
              "    box-shadow: none;\n",
              "  }\n",
              "\n",
              "  .colab-df-spinner {\n",
              "    border: 2px solid var(--fill-color);\n",
              "    border-color: transparent;\n",
              "    border-bottom-color: var(--fill-color);\n",
              "    animation:\n",
              "      spin 1s steps(1) infinite;\n",
              "  }\n",
              "\n",
              "  @keyframes spin {\n",
              "    0% {\n",
              "      border-color: transparent;\n",
              "      border-bottom-color: var(--fill-color);\n",
              "      border-left-color: var(--fill-color);\n",
              "    }\n",
              "    20% {\n",
              "      border-color: transparent;\n",
              "      border-left-color: var(--fill-color);\n",
              "      border-top-color: var(--fill-color);\n",
              "    }\n",
              "    30% {\n",
              "      border-color: transparent;\n",
              "      border-left-color: var(--fill-color);\n",
              "      border-top-color: var(--fill-color);\n",
              "      border-right-color: var(--fill-color);\n",
              "    }\n",
              "    40% {\n",
              "      border-color: transparent;\n",
              "      border-right-color: var(--fill-color);\n",
              "      border-top-color: var(--fill-color);\n",
              "    }\n",
              "    60% {\n",
              "      border-color: transparent;\n",
              "      border-right-color: var(--fill-color);\n",
              "    }\n",
              "    80% {\n",
              "      border-color: transparent;\n",
              "      border-right-color: var(--fill-color);\n",
              "      border-bottom-color: var(--fill-color);\n",
              "    }\n",
              "    90% {\n",
              "      border-color: transparent;\n",
              "      border-bottom-color: var(--fill-color);\n",
              "    }\n",
              "  }\n",
              "</style>\n",
              "\n",
              "  <script>\n",
              "    async function quickchart(key) {\n",
              "      const quickchartButtonEl =\n",
              "        document.querySelector('#' + key + ' button');\n",
              "      quickchartButtonEl.disabled = true;  // To prevent multiple clicks.\n",
              "      quickchartButtonEl.classList.add('colab-df-spinner');\n",
              "      try {\n",
              "        const charts = await google.colab.kernel.invokeFunction(\n",
              "            'suggestCharts', [key], {});\n",
              "      } catch (error) {\n",
              "        console.error('Error during call to suggestCharts:', error);\n",
              "      }\n",
              "      quickchartButtonEl.classList.remove('colab-df-spinner');\n",
              "      quickchartButtonEl.classList.add('colab-df-quickchart-complete');\n",
              "    }\n",
              "    (() => {\n",
              "      let quickchartButtonEl =\n",
              "        document.querySelector('#df-9623eea7-3436-4501-9ba0-2a6357847437 button');\n",
              "      quickchartButtonEl.style.display =\n",
              "        google.colab.kernel.accessAllowed ? 'block' : 'none';\n",
              "    })();\n",
              "  </script>\n",
              "</div>\n",
              "    </div>\n",
              "  </div>\n"
            ]
          },
          "metadata": {},
          "execution_count": 6
        }
      ]
    },
    {
      "cell_type": "markdown",
      "source": [
        "df.sample(7000): Randomly selects 7000 rows from 'df'.\n",
        "\n",
        ".drop('link', axis=1): Removes the 'link' column from the DataFrame.\n",
        "\n",
        ".reset_index(drop=True): Resets the index of the modified DataFrame without retaining the old index values, creating a new sequential index starting from zero."
      ],
      "metadata": {
        "id": "G8lrik1f2ZPb"
      }
    },
    {
      "cell_type": "code",
      "source": [
        "df['text'][0]"
      ],
      "metadata": {
        "colab": {
          "base_uri": "https://localhost:8080/",
          "height": 109
        },
        "id": "p1gOxLPtc5HP",
        "outputId": "249b4e9d-66b0-42d2-d217-0c2f7957945e"
      },
      "execution_count": 7,
      "outputs": [
        {
          "output_type": "execute_result",
          "data": {
            "text/plain": [
              "\"He blew into town like a paper sack  \\r\\nIn a stolen car with a shotgun in the back he said  \\r\\nShe can't run now, she can't hide  \\r\\nI'm gonna get her back for her lies lies lies  \\r\\n  \\r\\nHe taught her how to pout  \\r\\nAnd he taught her how to tease  \\r\\nAnd he taught her how to beg  \\r\\nWhen she fell down to her knees he said  \\r\\nYour face is different  \\r\\nBut you're really all the same  \\r\\nI have to teach you a lesson again and again  \\r\\n  \\r\\nSee I feel no pleasure  \\r\\nAnd I feel no pain  \\r\\nSo what else can I do?  \\r\\nI can't stop killing you  \\r\\n  \\r\\nWhen you're out there in the dark  \\r\\nI'll come rushing through your brain  \\r\\nWhen you wake up in the morning  \\r\\nI'll be coursing through your veins  \\r\\nWhen you're swimming in the water  \\r\\nI'm the hand that drags you under  \\r\\nI'm the lightning that strikes you  \\r\\nJust before you hear the thunder  \\r\\nI can't stop killing you  \\r\\n  \\r\\nWell she woke up in the bathroom  \\r\\nWith her face upon the floor  \\r\\nShe said I don't know what I'm doing here  \\r\\nBut I've been here before  \\r\\nAnd the fixit man had fixed her  \\r\\n'Cause he's such a little hitler  \\r\\nAnd he loves the feel of power  \\r\\nThat she gives him through her terror  \\r\\nI can't stop killing you  \\r\\n  \\r\\nWell she looked into the mirror  \\r\\nAnd she smoked her cigarette  \\r\\nAnd she wondered where she'd go now  \\r\\nTo find a place she could forget  \\r\\nAll the things he said he'd do  \\r\\nI can't stop killing you  \\r\\n  \\r\\nWhen you're out there in the dark  \\r\\nI'll come rushing through your brain  \\r\\nWhen you wake up in the morning  \\r\\nI'll be coursing through your veins  \\r\\nWhen you're swimming in the water  \\r\\nI'm the hand that drags you under  \\r\\nI'm the lightning that strikes you  \\r\\nJust before you hear the thunder  \\r\\nI can't stop killing you\\r\\n\\r\\n\""
            ],
            "application/vnd.google.colaboratory.intrinsic+json": {
              "type": "string"
            }
          },
          "metadata": {},
          "execution_count": 7
        }
      ]
    },
    {
      "cell_type": "code",
      "source": [
        "\n",
        "df.shape"
      ],
      "metadata": {
        "colab": {
          "base_uri": "https://localhost:8080/"
        },
        "id": "yg-T1Dl-dB3W",
        "outputId": "9f41600e-a961-4fff-8680-2efcfbd147e0"
      },
      "execution_count": 8,
      "outputs": [
        {
          "output_type": "execute_result",
          "data": {
            "text/plain": [
              "(7000, 3)"
            ]
          },
          "metadata": {},
          "execution_count": 8
        }
      ]
    },
    {
      "cell_type": "code",
      "source": [
        "df['text'] = df['text'].str.lower().replace(r'^a\\w\\s','').replace(r'\\n',' ', regex = True)"
      ],
      "metadata": {
        "id": "IJpRMGYmddRU"
      },
      "execution_count": 9,
      "outputs": []
    },
    {
      "cell_type": "markdown",
      "source": [
        "cosine similarities"
      ],
      "metadata": {
        "id": "OT9V7R0Zg1je"
      }
    },
    {
      "cell_type": "code",
      "source": [
        "df.tail(5)"
      ],
      "metadata": {
        "colab": {
          "base_uri": "https://localhost:8080/",
          "height": 206
        },
        "id": "h9EUtNk7g4yY",
        "outputId": "c1d2c1c2-80da-4789-ef75-64723de54305"
      },
      "execution_count": 10,
      "outputs": [
        {
          "output_type": "execute_result",
          "data": {
            "text/plain": [
              "              artist                          song  \\\n",
              "6995     Tim Buckley               Sweet Surrender   \n",
              "6996  Jackson Browne  Sleep's Dark And Silent Gate   \n",
              "6997  Michael Bolton              Joy To The World   \n",
              "6998    Ziggy Marley       Beautiful Mother Nature   \n",
              "6999           Wham!                   Like A Baby   \n",
              "\n",
              "                                                   text  \n",
              "6995  now you want to know the reason  \\r why i chea...  \n",
              "6996  sometimes i lie awake at night and wonder  \\r ...  \n",
              "6997  joy to the world  \\r the lord has come  \\r let...  \n",
              "6998  beautiful mother nature  \\r she looked at me w...  \n",
              "6999  foreign skies  \\r blinded me to empty charms. ...  "
            ],
            "text/html": [
              "\n",
              "  <div id=\"df-591f3f2a-952b-4a74-9a55-c9889549b510\" class=\"colab-df-container\">\n",
              "    <div>\n",
              "<style scoped>\n",
              "    .dataframe tbody tr th:only-of-type {\n",
              "        vertical-align: middle;\n",
              "    }\n",
              "\n",
              "    .dataframe tbody tr th {\n",
              "        vertical-align: top;\n",
              "    }\n",
              "\n",
              "    .dataframe thead th {\n",
              "        text-align: right;\n",
              "    }\n",
              "</style>\n",
              "<table border=\"1\" class=\"dataframe\">\n",
              "  <thead>\n",
              "    <tr style=\"text-align: right;\">\n",
              "      <th></th>\n",
              "      <th>artist</th>\n",
              "      <th>song</th>\n",
              "      <th>text</th>\n",
              "    </tr>\n",
              "  </thead>\n",
              "  <tbody>\n",
              "    <tr>\n",
              "      <th>6995</th>\n",
              "      <td>Tim Buckley</td>\n",
              "      <td>Sweet Surrender</td>\n",
              "      <td>now you want to know the reason  \\r why i chea...</td>\n",
              "    </tr>\n",
              "    <tr>\n",
              "      <th>6996</th>\n",
              "      <td>Jackson Browne</td>\n",
              "      <td>Sleep's Dark And Silent Gate</td>\n",
              "      <td>sometimes i lie awake at night and wonder  \\r ...</td>\n",
              "    </tr>\n",
              "    <tr>\n",
              "      <th>6997</th>\n",
              "      <td>Michael Bolton</td>\n",
              "      <td>Joy To The World</td>\n",
              "      <td>joy to the world  \\r the lord has come  \\r let...</td>\n",
              "    </tr>\n",
              "    <tr>\n",
              "      <th>6998</th>\n",
              "      <td>Ziggy Marley</td>\n",
              "      <td>Beautiful Mother Nature</td>\n",
              "      <td>beautiful mother nature  \\r she looked at me w...</td>\n",
              "    </tr>\n",
              "    <tr>\n",
              "      <th>6999</th>\n",
              "      <td>Wham!</td>\n",
              "      <td>Like A Baby</td>\n",
              "      <td>foreign skies  \\r blinded me to empty charms. ...</td>\n",
              "    </tr>\n",
              "  </tbody>\n",
              "</table>\n",
              "</div>\n",
              "    <div class=\"colab-df-buttons\">\n",
              "\n",
              "  <div class=\"colab-df-container\">\n",
              "    <button class=\"colab-df-convert\" onclick=\"convertToInteractive('df-591f3f2a-952b-4a74-9a55-c9889549b510')\"\n",
              "            title=\"Convert this dataframe to an interactive table.\"\n",
              "            style=\"display:none;\">\n",
              "\n",
              "  <svg xmlns=\"http://www.w3.org/2000/svg\" height=\"24px\" viewBox=\"0 -960 960 960\">\n",
              "    <path d=\"M120-120v-720h720v720H120Zm60-500h600v-160H180v160Zm220 220h160v-160H400v160Zm0 220h160v-160H400v160ZM180-400h160v-160H180v160Zm440 0h160v-160H620v160ZM180-180h160v-160H180v160Zm440 0h160v-160H620v160Z\"/>\n",
              "  </svg>\n",
              "    </button>\n",
              "\n",
              "  <style>\n",
              "    .colab-df-container {\n",
              "      display:flex;\n",
              "      gap: 12px;\n",
              "    }\n",
              "\n",
              "    .colab-df-convert {\n",
              "      background-color: #E8F0FE;\n",
              "      border: none;\n",
              "      border-radius: 50%;\n",
              "      cursor: pointer;\n",
              "      display: none;\n",
              "      fill: #1967D2;\n",
              "      height: 32px;\n",
              "      padding: 0 0 0 0;\n",
              "      width: 32px;\n",
              "    }\n",
              "\n",
              "    .colab-df-convert:hover {\n",
              "      background-color: #E2EBFA;\n",
              "      box-shadow: 0px 1px 2px rgba(60, 64, 67, 0.3), 0px 1px 3px 1px rgba(60, 64, 67, 0.15);\n",
              "      fill: #174EA6;\n",
              "    }\n",
              "\n",
              "    .colab-df-buttons div {\n",
              "      margin-bottom: 4px;\n",
              "    }\n",
              "\n",
              "    [theme=dark] .colab-df-convert {\n",
              "      background-color: #3B4455;\n",
              "      fill: #D2E3FC;\n",
              "    }\n",
              "\n",
              "    [theme=dark] .colab-df-convert:hover {\n",
              "      background-color: #434B5C;\n",
              "      box-shadow: 0px 1px 3px 1px rgba(0, 0, 0, 0.15);\n",
              "      filter: drop-shadow(0px 1px 2px rgba(0, 0, 0, 0.3));\n",
              "      fill: #FFFFFF;\n",
              "    }\n",
              "  </style>\n",
              "\n",
              "    <script>\n",
              "      const buttonEl =\n",
              "        document.querySelector('#df-591f3f2a-952b-4a74-9a55-c9889549b510 button.colab-df-convert');\n",
              "      buttonEl.style.display =\n",
              "        google.colab.kernel.accessAllowed ? 'block' : 'none';\n",
              "\n",
              "      async function convertToInteractive(key) {\n",
              "        const element = document.querySelector('#df-591f3f2a-952b-4a74-9a55-c9889549b510');\n",
              "        const dataTable =\n",
              "          await google.colab.kernel.invokeFunction('convertToInteractive',\n",
              "                                                    [key], {});\n",
              "        if (!dataTable) return;\n",
              "\n",
              "        const docLinkHtml = 'Like what you see? Visit the ' +\n",
              "          '<a target=\"_blank\" href=https://colab.research.google.com/notebooks/data_table.ipynb>data table notebook</a>'\n",
              "          + ' to learn more about interactive tables.';\n",
              "        element.innerHTML = '';\n",
              "        dataTable['output_type'] = 'display_data';\n",
              "        await google.colab.output.renderOutput(dataTable, element);\n",
              "        const docLink = document.createElement('div');\n",
              "        docLink.innerHTML = docLinkHtml;\n",
              "        element.appendChild(docLink);\n",
              "      }\n",
              "    </script>\n",
              "  </div>\n",
              "\n",
              "\n",
              "<div id=\"df-a1239dab-6d41-45c7-8e48-88fe56e0d429\">\n",
              "  <button class=\"colab-df-quickchart\" onclick=\"quickchart('df-a1239dab-6d41-45c7-8e48-88fe56e0d429')\"\n",
              "            title=\"Suggest charts\"\n",
              "            style=\"display:none;\">\n",
              "\n",
              "<svg xmlns=\"http://www.w3.org/2000/svg\" height=\"24px\"viewBox=\"0 0 24 24\"\n",
              "     width=\"24px\">\n",
              "    <g>\n",
              "        <path d=\"M19 3H5c-1.1 0-2 .9-2 2v14c0 1.1.9 2 2 2h14c1.1 0 2-.9 2-2V5c0-1.1-.9-2-2-2zM9 17H7v-7h2v7zm4 0h-2V7h2v10zm4 0h-2v-4h2v4z\"/>\n",
              "    </g>\n",
              "</svg>\n",
              "  </button>\n",
              "\n",
              "<style>\n",
              "  .colab-df-quickchart {\n",
              "      --bg-color: #E8F0FE;\n",
              "      --fill-color: #1967D2;\n",
              "      --hover-bg-color: #E2EBFA;\n",
              "      --hover-fill-color: #174EA6;\n",
              "      --disabled-fill-color: #AAA;\n",
              "      --disabled-bg-color: #DDD;\n",
              "  }\n",
              "\n",
              "  [theme=dark] .colab-df-quickchart {\n",
              "      --bg-color: #3B4455;\n",
              "      --fill-color: #D2E3FC;\n",
              "      --hover-bg-color: #434B5C;\n",
              "      --hover-fill-color: #FFFFFF;\n",
              "      --disabled-bg-color: #3B4455;\n",
              "      --disabled-fill-color: #666;\n",
              "  }\n",
              "\n",
              "  .colab-df-quickchart {\n",
              "    background-color: var(--bg-color);\n",
              "    border: none;\n",
              "    border-radius: 50%;\n",
              "    cursor: pointer;\n",
              "    display: none;\n",
              "    fill: var(--fill-color);\n",
              "    height: 32px;\n",
              "    padding: 0;\n",
              "    width: 32px;\n",
              "  }\n",
              "\n",
              "  .colab-df-quickchart:hover {\n",
              "    background-color: var(--hover-bg-color);\n",
              "    box-shadow: 0 1px 2px rgba(60, 64, 67, 0.3), 0 1px 3px 1px rgba(60, 64, 67, 0.15);\n",
              "    fill: var(--button-hover-fill-color);\n",
              "  }\n",
              "\n",
              "  .colab-df-quickchart-complete:disabled,\n",
              "  .colab-df-quickchart-complete:disabled:hover {\n",
              "    background-color: var(--disabled-bg-color);\n",
              "    fill: var(--disabled-fill-color);\n",
              "    box-shadow: none;\n",
              "  }\n",
              "\n",
              "  .colab-df-spinner {\n",
              "    border: 2px solid var(--fill-color);\n",
              "    border-color: transparent;\n",
              "    border-bottom-color: var(--fill-color);\n",
              "    animation:\n",
              "      spin 1s steps(1) infinite;\n",
              "  }\n",
              "\n",
              "  @keyframes spin {\n",
              "    0% {\n",
              "      border-color: transparent;\n",
              "      border-bottom-color: var(--fill-color);\n",
              "      border-left-color: var(--fill-color);\n",
              "    }\n",
              "    20% {\n",
              "      border-color: transparent;\n",
              "      border-left-color: var(--fill-color);\n",
              "      border-top-color: var(--fill-color);\n",
              "    }\n",
              "    30% {\n",
              "      border-color: transparent;\n",
              "      border-left-color: var(--fill-color);\n",
              "      border-top-color: var(--fill-color);\n",
              "      border-right-color: var(--fill-color);\n",
              "    }\n",
              "    40% {\n",
              "      border-color: transparent;\n",
              "      border-right-color: var(--fill-color);\n",
              "      border-top-color: var(--fill-color);\n",
              "    }\n",
              "    60% {\n",
              "      border-color: transparent;\n",
              "      border-right-color: var(--fill-color);\n",
              "    }\n",
              "    80% {\n",
              "      border-color: transparent;\n",
              "      border-right-color: var(--fill-color);\n",
              "      border-bottom-color: var(--fill-color);\n",
              "    }\n",
              "    90% {\n",
              "      border-color: transparent;\n",
              "      border-bottom-color: var(--fill-color);\n",
              "    }\n",
              "  }\n",
              "</style>\n",
              "\n",
              "  <script>\n",
              "    async function quickchart(key) {\n",
              "      const quickchartButtonEl =\n",
              "        document.querySelector('#' + key + ' button');\n",
              "      quickchartButtonEl.disabled = true;  // To prevent multiple clicks.\n",
              "      quickchartButtonEl.classList.add('colab-df-spinner');\n",
              "      try {\n",
              "        const charts = await google.colab.kernel.invokeFunction(\n",
              "            'suggestCharts', [key], {});\n",
              "      } catch (error) {\n",
              "        console.error('Error during call to suggestCharts:', error);\n",
              "      }\n",
              "      quickchartButtonEl.classList.remove('colab-df-spinner');\n",
              "      quickchartButtonEl.classList.add('colab-df-quickchart-complete');\n",
              "    }\n",
              "    (() => {\n",
              "      let quickchartButtonEl =\n",
              "        document.querySelector('#df-a1239dab-6d41-45c7-8e48-88fe56e0d429 button');\n",
              "      quickchartButtonEl.style.display =\n",
              "        google.colab.kernel.accessAllowed ? 'block' : 'none';\n",
              "    })();\n",
              "  </script>\n",
              "</div>\n",
              "    </div>\n",
              "  </div>\n"
            ]
          },
          "metadata": {},
          "execution_count": 10
        }
      ]
    },
    {
      "cell_type": "code",
      "source": [
        "import nltk\n",
        "nltk.download('punkt')\n",
        "from nltk.stem.porter import PorterStemmer"
      ],
      "metadata": {
        "colab": {
          "base_uri": "https://localhost:8080/"
        },
        "id": "qs3WNpAlh2s6",
        "outputId": "38ddee38-a706-4dba-ff8b-5f7dcabd0da8"
      },
      "execution_count": 11,
      "outputs": [
        {
          "output_type": "stream",
          "name": "stderr",
          "text": [
            "[nltk_data] Downloading package punkt to /root/nltk_data...\n",
            "[nltk_data]   Unzipping tokenizers/punkt.zip.\n"
          ]
        }
      ]
    },
    {
      "cell_type": "markdown",
      "source": [
        "1. **import nltk:**  \n",
        "   Imports the Natural Language Toolkit (NLTK) library in Python.\n",
        "   - **NLTK:**  \n",
        "   NLTK is a powerful platform for building Python programs to work with human language data. It provides easy-to-use interfaces to over 50 corpora and lexical resources, such as WordNet.\n",
        "\n",
        "2. **nltk.download('punkt'):**  \n",
        "   - Downloads the 'punkt' tokenizer models from NLTK's data repository.\n",
        "   **Tokenizer:**  \n",
        "  Tokenization is the process of breaking text into smaller units, such as words or sentences, which are called tokens. 'punkt' is a tokenizer used by NLTK for tokenizing text into sentences.\n",
        "\n",
        "3. **from nltk.stem.porter import PorterStemmer:**  \n",
        "   Imports the PorterStemmer module from NLTK's stem module.\n",
        "   - **Stemming:**  \n",
        "  Stemming is the process of reducing words to their word stem or base form. The PorterStemmer algorithm, available in NLTK, is a widely used stemming method that trims affixes from words to obtain their root forms. It helps in standardizing words to their base or root.\n"
      ],
      "metadata": {
        "id": "J-X7YUdf3P3y"
      }
    },
    {
      "cell_type": "code",
      "source": [
        "stemmer = PorterStemmer()"
      ],
      "metadata": {
        "id": "iTrBG_gtioeN"
      },
      "execution_count": 12,
      "outputs": []
    },
    {
      "cell_type": "markdown",
      "source": [
        "Porter Stemmer is a widely used stemming algorithm available in NLTK. It is used to reduce words to their base or root form by removing affixes. Initializing PorterStemmer() creates a stemmer object that can be used to stem words within text data."
      ],
      "metadata": {
        "id": "EeeI-uW14i2z"
      }
    },
    {
      "cell_type": "code",
      "source": [
        "def token(txt):\n",
        "  token = nltk.word_tokenize(txt)\n",
        "  a = [stemmer.stem(w) for w in token]\n",
        "  return \" \".join(a)"
      ],
      "metadata": {
        "id": "KZ5CGrwqiz_f"
      },
      "execution_count": 13,
      "outputs": []
    },
    {
      "cell_type": "markdown",
      "source": [
        "\n",
        "1. **def token(txt):**\n",
        "   - Defines a Python function named `token` that takes a text input (`txt`) as an argument.\n",
        "\n",
        "2. **token = nltk.word_tokenize(txt):**\n",
        "   - Uses NLTK's `word_tokenize()` function to tokenize the input text (`txt`) into individual words (tokens).\n",
        "\n",
        "3. **a = [stemmer.stem(w) for w in token]:**\n",
        "   - Iterates through each tokenized word (`w`) in the list of tokens and applies stemming using the previously initialized `stemmer` (PorterStemmer instance) to obtain the word's base or root form. The results are stored in a list named `a`.\n",
        "   - **Stemming:**  \n",
        "     - Stemming is the process of reducing words to their base or root form. Here, the code uses the PorterStemmer (`stemmer`) to apply stemming to each token.\n",
        "\n",
        "4. **return \" \".join(a):**\n",
        "   -Joins the list of stemmed words (`a`) back into a single string, separating each word with a space.\n",
        "   - **\" \".join(a):**  \n",
        "     - `join()` is a string method that concatenates the elements of a list into a single string, using a space (' ') as a separator.\n"
      ],
      "metadata": {
        "id": "D_II6P1V5WW2"
      }
    },
    {
      "cell_type": "code",
      "source": [
        "token(\"you are beautiful, beauty\")"
      ],
      "metadata": {
        "colab": {
          "base_uri": "https://localhost:8080/",
          "height": 36
        },
        "id": "9wwCycxjjt_j",
        "outputId": "5c0db807-b29a-46dc-dd57-c77224b71ca7"
      },
      "execution_count": 14,
      "outputs": [
        {
          "output_type": "execute_result",
          "data": {
            "text/plain": [
              "'you are beauti , beauti'"
            ],
            "application/vnd.google.colaboratory.intrinsic+json": {
              "type": "string"
            }
          },
          "metadata": {},
          "execution_count": 14
        }
      ]
    },
    {
      "cell_type": "code",
      "source": [
        "df['text'].apply(lambda x: token(x))"
      ],
      "metadata": {
        "colab": {
          "base_uri": "https://localhost:8080/"
        },
        "id": "H0QifdwIFRUx",
        "outputId": "8f00b9dd-59dc-4240-8deb-d224ffb86a36"
      },
      "execution_count": 15,
      "outputs": [
        {
          "output_type": "execute_result",
          "data": {
            "text/plain": [
              "0       he blew into town like a paper sack in a stole...\n",
              "1       listen as your day unfold challeng what the fu...\n",
              "2       she 's look back to see if he 's look at her t...\n",
              "3       send out your invit there 's gon na be a parti...\n",
              "4       jazz fire eat drag-queen dress as societi whor...\n",
              "                              ...                        \n",
              "6995    now you want to know the reason whi i cheat on...\n",
              "6996    sometim i lie awak at night and wonder where m...\n",
              "6997    joy to the world the lord ha come let earth re...\n",
              "6998    beauti mother natur she look at me with a smil...\n",
              "6999    foreign sky blind me to empti charm . i cross ...\n",
              "Name: text, Length: 7000, dtype: object"
            ]
          },
          "metadata": {},
          "execution_count": 15
        }
      ]
    },
    {
      "cell_type": "markdown",
      "source": [
        "This line of code applies the function `token(x)` to each element in the 'text' column of the DataFrame 'df' using the `apply()` method in Pandas along with a lambda function.\n",
        "\n",
        "\n",
        "\n",
        "1. **df['text'].apply():**\n",
        "     Selects the 'text' column from the DataFrame 'df'.\n",
        "   - **apply():**\n",
        "     -  The `apply()` function in Pandas is used to apply a function along an axis of the DataFrame. In this case, it's applied to each element in the 'text' column.\n",
        "\n",
        "2. **lambda x: token(x):**\n",
        "   - Uses a lambda function to apply the `token` function to each element ('x') in the 'text' column.\n",
        "   - **Lambda Function:**  \n",
        "     - In Python, lambda functions are small anonymous functions defined using the `lambda` keyword. They can take any number of arguments but can only have one expression.\n",
        "\n",
        "3. **Result:**\n",
        "   - For each entry in the 'text' column of the DataFrame 'df', the `token()` function is applied to perform tokenization and stemming on the text. The modified text is returned and likely used for further processing or analysis."
      ],
      "metadata": {
        "id": "ptk7O0Pi89MK"
      }
    },
    {
      "cell_type": "code",
      "source": [
        "from sklearn.feature_extraction.text import TfidfVectorizer\n",
        "from sklearn.metrics.pairwise import cosine_similarity"
      ],
      "metadata": {
        "id": "U8wR1R5bESXa"
      },
      "execution_count": 16,
      "outputs": []
    },
    {
      "cell_type": "markdown",
      "source": [
        "This code snippet imports specific modules/classes from the scikit-learn library, facilitating text vectorization and cosine similarity calculation for machine learning tasks.\n",
        "\n",
        "1. **from sklearn.feature_extraction.text import TfidfVectorizer:**\n",
        "   - **Explanation:** Imports the `TfidfVectorizer` class from scikit-learn's `feature_extraction.text` module.\n",
        "   - **TfidfVectorizer:**\n",
        "     - **Definition:** `TfidfVectorizer` is a scikit-learn class used for converting a collection of raw documents (text) into a matrix of TF-IDF features. It computes the Term Frequency-Inverse Document Frequency (TF-IDF) representation of the text, where each row corresponds to a document and each column represents a unique word, weighted by its frequency in the document and across the corpus.\n",
        "\n",
        "2. **from sklearn.metrics.pairwise import cosine_similarity:**\n",
        "   - **Explanation:** Imports the `cosine_similarity` function from scikit-learn's `metrics.pairwise` module.\n",
        "   - **cosine_similarity:**\n",
        "     - **Definition:** `cosine_similarity` is a function in scikit-learn used to compute the cosine similarity between pairs of samples (documents, vectors, etc.). It calculates the cosine of the angle between two vectors, providing a similarity measure between them. In the context of text data, it's often used to assess the similarity between TF-IDF vectors of different documents or text passages."
      ],
      "metadata": {
        "id": "khw_iMn49mTB"
      }
    },
    {
      "cell_type": "code",
      "source": [
        "tfid = TfidfVectorizer(analyzer ='word', stop_words ='english')"
      ],
      "metadata": {
        "id": "GWbVeV6CFPk5"
      },
      "execution_count": 17,
      "outputs": []
    },
    {
      "cell_type": "markdown",
      "source": [
        "This line of code initializes a TfidfVectorizer object with specific settings using scikit-learn's TfidfVectorizer class. Here's an explanation:\n",
        "\n",
        "1. **tfid = TfidfVectorizer(analyzer='word', stop_words='english'):**\n",
        "   - **Explanation:** Creates an instance of the TfidfVectorizer class with certain configurations.\n",
        "   - **TfidfVectorizer:**\n",
        "     - **Definition:** TfidfVectorizer is a class from scikit-learn used for converting text data into a matrix of TF-IDF features.\n",
        "   - **Parameters:**\n",
        "     - **analyzer='word':**\n",
        "       - **Explanation:** Specifies the unit of analysis for the vectorizer, which in this case is set to 'word'. It indicates that the vectorizer will tokenize text into words and generate TF-IDF features based on individual words.\n",
        "     - **stop_words='english':**\n",
        "       - **Explanation:** Configures the vectorizer to use the built-in English stop words list to remove commonly occurring words (such as 'the', 'is', 'and', etc.) that often do not contribute significantly to the meaning of the text. These stop words are excluded during the TF-IDF calculation to improve the quality of the features."
      ],
      "metadata": {
        "id": "bGS7UnVk9_oF"
      }
    },
    {
      "cell_type": "code",
      "source": [
        "matrix=tfid.fit_transform(df['text'])"
      ],
      "metadata": {
        "id": "MHtNH7YfHPUP"
      },
      "execution_count": 18,
      "outputs": []
    },
    {
      "cell_type": "markdown",
      "source": [
        "This line of code utilizes the initialized TfidfVectorizer object (`tfid`) to transform the text data from the 'text' column of the DataFrame 'df' into a matrix of TF-IDF features.\n",
        "\n",
        "Explanation:\n",
        "\n",
        "1. **matrix = tfid.fit_transform(df['text']):**\n",
        "   - **Explanation:** Applies the `fit_transform()` method of the TfidfVectorizer (`tfid`) to the text data in the 'text' column of the DataFrame 'df'.\n",
        "   - **fit_transform():**\n",
        "     - **Definition:** In scikit-learn, `fit_transform()` is a method that fits the vectorizer to the data and transforms the text data into a matrix of TF-IDF features.\n",
        "   - **df['text']:**\n",
        "     - **Explanation:** Refers to the 'text' column of the DataFrame 'df', containing text data for processing.\n",
        "   - **matrix:**\n",
        "     - **Explanation:** Stores the transformed data. Each row of the 'matrix' represents a document (text entry), and each column corresponds to a unique word, with values indicating the TF-IDF score of the word in the document. This matrix of TF-IDF features is suitable for various machine learning tasks, such as clustering, classification, or similarity comparisons between documents."
      ],
      "metadata": {
        "id": "rsLAPwb8-Ui_"
      }
    },
    {
      "cell_type": "code",
      "source": [
        "similar = cosine_similarity(matrix)"
      ],
      "metadata": {
        "id": "glchM5UAJAhQ"
      },
      "execution_count": 19,
      "outputs": []
    },
    {
      "cell_type": "markdown",
      "source": [
        "This line of code computes the cosine similarity between the rows (documents) of the TF-IDF matrix obtained previously using the TfidfVectorizer.\n",
        "\n",
        "Explanation:\n",
        "\n",
        "1. **similar = cosine_similarity(matrix):**\n",
        "   - **Explanation:** Calculates the cosine similarity among the rows (documents) of the TF-IDF matrix (`matrix`) using the `cosine_similarity()` function.\n",
        "   - **cosine_similarity():**\n",
        "     - **Definition:** This function, available in scikit-learn, computes the cosine similarity between pairs of samples (in this case, documents represented as TF-IDF vectors). It measures the cosine of the angle between the vectors, providing a similarity score between documents.\n",
        "   - **similar:**\n",
        "     - **Explanation:** Represents the resulting similarity matrix. For each pair of documents, the value in the similarity matrix denotes their cosine similarity score, indicating how similar or related the documents are based on their TF-IDF representations."
      ],
      "metadata": {
        "id": "Q6BP7lPG-pLS"
      }
    },
    {
      "cell_type": "code",
      "source": [
        "similar[0]"
      ],
      "metadata": {
        "colab": {
          "base_uri": "https://localhost:8080/"
        },
        "id": "RmH-ZcBwJEle",
        "outputId": "9bb8def6-c7e8-4600-a3ad-ce2b6dc52674"
      },
      "execution_count": 20,
      "outputs": [
        {
          "output_type": "execute_result",
          "data": {
            "text/plain": [
              "array([1.        , 0.01414028, 0.02882552, ..., 0.00224706, 0.03568468,\n",
              "       0.03535386])"
            ]
          },
          "metadata": {},
          "execution_count": 20
        }
      ]
    },
    {
      "cell_type": "code",
      "source": [
        "df[df['song'] =='Joy To The World'].index[0]"
      ],
      "metadata": {
        "colab": {
          "base_uri": "https://localhost:8080/"
        },
        "id": "q4gMIby14tHe",
        "outputId": "efa84111-672d-4896-ab65-85abea364ff0"
      },
      "execution_count": 23,
      "outputs": [
        {
          "output_type": "execute_result",
          "data": {
            "text/plain": [
              "6997"
            ]
          },
          "metadata": {},
          "execution_count": 23
        }
      ]
    },
    {
      "cell_type": "markdown",
      "source": [
        "Recommender Function"
      ],
      "metadata": {
        "id": "IqTx4r0e5246"
      }
    },
    {
      "cell_type": "code",
      "source": [
        "def recommender(song_name):\n",
        "  idx = df[df['song'] ==song_name].index[0]\n",
        "  distance = sorted(list(enumerate(similar[idx])), reverse = True, key = lambda x:x[1])\n",
        "  song = []\n",
        "  for s_id in distance[0:21]:\n",
        "    song.append(df.iloc[s_id[0]].song)\n",
        "  return song"
      ],
      "metadata": {
        "id": "RH4zGpJH5ur_"
      },
      "execution_count": 24,
      "outputs": []
    },
    {
      "cell_type": "markdown",
      "source": [
        "This Python function, named `recommender`, takes a 'song_name' as input and aims to recommend similar songs based on a predefined similarity matrix and DataFrame ('df'). Here's an explanation of the function:\n",
        "\n",
        "1. **recommender(song_name):**\n",
        "   - **Explanation:** Defines a function named 'recommender' that takes a 'song_name' as input to find similar songs.\n",
        "\n",
        "2. **idx = df[df['song'] == song_name].index[0]:**\n",
        "   - **Explanation:** Retrieves the index of the 'song_name' from the DataFrame 'df'.\n",
        "   - **df['song'] == song_name:** Filters the DataFrame to find rows where the 'song' column matches the provided 'song_name'.\n",
        "   - **.index[0]:** Obtains the index of the first matching song from the filtered DataFrame.\n",
        "\n",
        "3. **distance = sorted(list(enumerate(similar[idx])), reverse=True, key=lambda x: x[1]):**\n",
        "   - **Explanation:** Calculates the similarity scores between the 'song_name' and all other songs based on the precomputed similarity matrix 'similar'. Then, sorts these scores in descending order.\n",
        "   - **enumerate(similar[idx]):** Enumerates the similarity scores of the 'song_name' with all other songs based on the similarity matrix.\n",
        "   - **sorted(..., reverse=True, key=lambda x: x[1]):** Sorts the similarity scores in reverse order (highest to lowest).\n",
        "\n",
        "4. **song = [] and for s_id in distance[0:21]: ...:**\n",
        "   - **Explanation:** Iterates through the first 21 similar song indices obtained from 'distance', retrieves the corresponding song names from the DataFrame 'df', and appends them to the 'song' list.\n",
        "\n",
        "5. **return song:**\n",
        "   - **Explanation:** Returns a list of recommended songs similar to the input 'song_name' based on the computed similarity scores.\n",
        "\n",
        "This function essentially finds the index of the provided song name, identifies its similarity scores with all other songs, sorts these scores, retrieves the top 21 similar song names, and returns them as recommendations."
      ],
      "metadata": {
        "id": "-uhbACtUAAWh"
      }
    },
    {
      "cell_type": "code",
      "source": [
        "recommender(\"Touch Of Heaven\")"
      ],
      "metadata": {
        "colab": {
          "base_uri": "https://localhost:8080/",
          "height": 333
        },
        "id": "EKohRWNu7L33",
        "outputId": "116c8baf-7c84-4deb-e5d3-02b775dc459d"
      },
      "execution_count": 25,
      "outputs": [
        {
          "output_type": "error",
          "ename": "IndexError",
          "evalue": "ignored",
          "traceback": [
            "\u001b[0;31m---------------------------------------------------------------------------\u001b[0m",
            "\u001b[0;31mIndexError\u001b[0m                                Traceback (most recent call last)",
            "\u001b[0;32m<ipython-input-25-3881bd6850f9>\u001b[0m in \u001b[0;36m<cell line: 1>\u001b[0;34m()\u001b[0m\n\u001b[0;32m----> 1\u001b[0;31m \u001b[0mrecommender\u001b[0m\u001b[0;34m(\u001b[0m\u001b[0;34m\"Touch Of Heaven\"\u001b[0m\u001b[0;34m)\u001b[0m\u001b[0;34m\u001b[0m\u001b[0;34m\u001b[0m\u001b[0m\n\u001b[0m",
            "\u001b[0;32m<ipython-input-24-a123c49e9cd4>\u001b[0m in \u001b[0;36mrecommender\u001b[0;34m(song_name)\u001b[0m\n\u001b[1;32m      1\u001b[0m \u001b[0;32mdef\u001b[0m \u001b[0mrecommender\u001b[0m\u001b[0;34m(\u001b[0m\u001b[0msong_name\u001b[0m\u001b[0;34m)\u001b[0m\u001b[0;34m:\u001b[0m\u001b[0;34m\u001b[0m\u001b[0;34m\u001b[0m\u001b[0m\n\u001b[0;32m----> 2\u001b[0;31m   \u001b[0midx\u001b[0m \u001b[0;34m=\u001b[0m \u001b[0mdf\u001b[0m\u001b[0;34m[\u001b[0m\u001b[0mdf\u001b[0m\u001b[0;34m[\u001b[0m\u001b[0;34m'song'\u001b[0m\u001b[0;34m]\u001b[0m \u001b[0;34m==\u001b[0m\u001b[0msong_name\u001b[0m\u001b[0;34m]\u001b[0m\u001b[0;34m.\u001b[0m\u001b[0mindex\u001b[0m\u001b[0;34m[\u001b[0m\u001b[0;36m0\u001b[0m\u001b[0;34m]\u001b[0m\u001b[0;34m\u001b[0m\u001b[0;34m\u001b[0m\u001b[0m\n\u001b[0m\u001b[1;32m      3\u001b[0m   \u001b[0mdistance\u001b[0m \u001b[0;34m=\u001b[0m \u001b[0msorted\u001b[0m\u001b[0;34m(\u001b[0m\u001b[0mlist\u001b[0m\u001b[0;34m(\u001b[0m\u001b[0menumerate\u001b[0m\u001b[0;34m(\u001b[0m\u001b[0msimilar\u001b[0m\u001b[0;34m[\u001b[0m\u001b[0midx\u001b[0m\u001b[0;34m]\u001b[0m\u001b[0;34m)\u001b[0m\u001b[0;34m)\u001b[0m\u001b[0;34m,\u001b[0m \u001b[0mreverse\u001b[0m \u001b[0;34m=\u001b[0m \u001b[0;32mTrue\u001b[0m\u001b[0;34m,\u001b[0m \u001b[0mkey\u001b[0m \u001b[0;34m=\u001b[0m \u001b[0;32mlambda\u001b[0m \u001b[0mx\u001b[0m\u001b[0;34m:\u001b[0m\u001b[0mx\u001b[0m\u001b[0;34m[\u001b[0m\u001b[0;36m1\u001b[0m\u001b[0;34m]\u001b[0m\u001b[0;34m)\u001b[0m\u001b[0;34m\u001b[0m\u001b[0;34m\u001b[0m\u001b[0m\n\u001b[1;32m      4\u001b[0m   \u001b[0msong\u001b[0m \u001b[0;34m=\u001b[0m \u001b[0;34m[\u001b[0m\u001b[0;34m]\u001b[0m\u001b[0;34m\u001b[0m\u001b[0;34m\u001b[0m\u001b[0m\n\u001b[1;32m      5\u001b[0m   \u001b[0;32mfor\u001b[0m \u001b[0ms_id\u001b[0m \u001b[0;32min\u001b[0m \u001b[0mdistance\u001b[0m\u001b[0;34m[\u001b[0m\u001b[0;36m0\u001b[0m\u001b[0;34m:\u001b[0m\u001b[0;36m21\u001b[0m\u001b[0;34m]\u001b[0m\u001b[0;34m:\u001b[0m\u001b[0;34m\u001b[0m\u001b[0;34m\u001b[0m\u001b[0m\n",
            "\u001b[0;32m/usr/local/lib/python3.10/dist-packages/pandas/core/indexes/base.py\u001b[0m in \u001b[0;36m__getitem__\u001b[0;34m(self, key)\u001b[0m\n\u001b[1;32m   5318\u001b[0m             \u001b[0;31m# GH#44051 exclude bool, which would return a 2d ndarray\u001b[0m\u001b[0;34m\u001b[0m\u001b[0;34m\u001b[0m\u001b[0m\n\u001b[1;32m   5319\u001b[0m             \u001b[0mkey\u001b[0m \u001b[0;34m=\u001b[0m \u001b[0mcom\u001b[0m\u001b[0;34m.\u001b[0m\u001b[0mcast_scalar_indexer\u001b[0m\u001b[0;34m(\u001b[0m\u001b[0mkey\u001b[0m\u001b[0;34m,\u001b[0m \u001b[0mwarn_float\u001b[0m\u001b[0;34m=\u001b[0m\u001b[0;32mTrue\u001b[0m\u001b[0;34m)\u001b[0m\u001b[0;34m\u001b[0m\u001b[0;34m\u001b[0m\u001b[0m\n\u001b[0;32m-> 5320\u001b[0;31m             \u001b[0;32mreturn\u001b[0m \u001b[0mgetitem\u001b[0m\u001b[0;34m(\u001b[0m\u001b[0mkey\u001b[0m\u001b[0;34m)\u001b[0m\u001b[0;34m\u001b[0m\u001b[0;34m\u001b[0m\u001b[0m\n\u001b[0m\u001b[1;32m   5321\u001b[0m \u001b[0;34m\u001b[0m\u001b[0m\n\u001b[1;32m   5322\u001b[0m         \u001b[0;32mif\u001b[0m \u001b[0misinstance\u001b[0m\u001b[0;34m(\u001b[0m\u001b[0mkey\u001b[0m\u001b[0;34m,\u001b[0m \u001b[0mslice\u001b[0m\u001b[0;34m)\u001b[0m\u001b[0;34m:\u001b[0m\u001b[0;34m\u001b[0m\u001b[0;34m\u001b[0m\u001b[0m\n",
            "\u001b[0;31mIndexError\u001b[0m: index 0 is out of bounds for axis 0 with size 0"
          ]
        }
      ]
    },
    {
      "cell_type": "code",
      "source": [
        "#import pickle"
      ],
      "metadata": {
        "id": "10njE_9T8o2T"
      },
      "execution_count": 26,
      "outputs": []
    },
    {
      "cell_type": "code",
      "source": [
        "#pickle.dump(similar, open(\"similarity\",\"wb\"))\n",
        "#pickle.dump(df,open(\"df\",\"wb\"))"
      ],
      "metadata": {
        "id": "Q34tTYxJ86oW"
      },
      "execution_count": 27,
      "outputs": []
    },
    {
      "cell_type": "code",
      "source": [
        "import pickle\n",
        "\n",
        "# Assuming 'similar' and 'df' are defined earlier in your code\n",
        "\n",
        "# Save 'similar' object to 'similarity.pkl'\n",
        "pickle.dump(similar, open(\"/content/drive/MyDrive/Dataset/similarity.pkl\", \"wb\"))\n",
        "\n",
        "# Save 'df' object to 'df.pkl'\n",
        "pickle.dump(df, open(\"/content/drive/MyDrive/Dataset/df.pkl\", \"wb\"))\n"
      ],
      "metadata": {
        "id": "23A_q6ZO9PvM"
      },
      "execution_count": 30,
      "outputs": []
    },
    {
      "cell_type": "markdown",
      "source": [
        "This code snippet employs Python's `pickle` module to save (serialize) objects, such as the similarity matrix (`similar`) and DataFrame (`df`), into binary files for storage or later use.\n",
        "\n",
        "Explanation of each line:\n",
        "\n",
        "1. **`import pickle`:**\n",
        "   - **Explanation:** Imports the `pickle` module, a Python module used for serializing and deserializing objects.\n",
        "\n",
        "2. **`pickle.dump(similar, open(\"/content/drive/MyDrive/Dataset/similarity.pkl\", \"wb\"))`:**\n",
        "   - **Explanation:** Serializes and saves the 'similar' object (likely a similarity matrix) as a binary file named 'similarity.pkl' in the specified path '/content/drive/MyDrive/Dataset/'. The file is opened in 'write binary' mode ('wb').\n",
        "\n",
        "3. **`pickle.dump(df, open(\"/content/drive/MyDrive/Dataset/df.pkl\", \"wb\"))`:**\n",
        "   - **Explanation:** Serializes and saves the 'df' object (presumably a DataFrame) as a binary file named 'df.pkl' in the specified path '/content/drive/MyDrive/Dataset/'. The file is opened in 'write binary' mode ('wb').\n",
        "\n",
        "These lines use `pickle.dump()` to store the 'similar' and 'df' objects into separate pickle files. This enables the preservation of these objects' state, allowing easy retrieval and use in other Python sessions or applications at a later time."
      ],
      "metadata": {
        "id": "IZ7fXPoRipWv"
      }
    },
    {
      "cell_type": "markdown",
      "source": [
        "Pickle:\n",
        " pickle is a module in Python used for serializing and deserializing Python objects. Serialization refers to the process of converting objects into a byte stream, allowing them to be stored in files or transferred across networks. Deserialization is the process of reconstructing objects from the serialized byte stream."
      ],
      "metadata": {
        "id": "LGBOsNZKiqr2"
      }
    },
    {
      "cell_type": "code",
      "source": [
        "# Randomly select a song from the dataset\n",
        "selected_song = df.sample(1)['song'].values[0]\n",
        "\n",
        "# Get recommendations for the selected song using the recommender function\n",
        "recommended_songs = recommender(selected_song)\n",
        "\n",
        "# Manually inspect the selected song and its recommendations\n",
        "print(f\"Selected Song: {selected_song}\")\n",
        "print(f\"Recommended Songs: {recommended_songs}\")\n",
        "# Compare the recommendations to the selected song and assess relevancy manually\n"
      ],
      "metadata": {
        "colab": {
          "base_uri": "https://localhost:8080/"
        },
        "id": "_LkhH0PJxa3h",
        "outputId": "3d0f6de3-1b0c-4524-d598-0078f487923e"
      },
      "execution_count": 31,
      "outputs": [
        {
          "output_type": "stream",
          "name": "stdout",
          "text": [
            "Selected Song: 21St Century Schizoid Man\n",
            "Recommended Songs: ['21St Century Schizoid Man', 'Edge Of The Century', 'Kids Of The Century', 'After The Gold Rush', 'Man To Man', 'For You', 'You Might Need A Man', 'This Man Is Mine', 'One True Man', 'Only One Man', 'Soul Man', 'Better Man', 'Born A Man', \"Young Man's Town\", 'Short Break', 'The Longest Pee', 'Man At The Top', 'Man To Woman', 'Young Man', \"It's Getting Better\", 'Walk Like A Man']\n"
          ]
        }
      ]
    },
    {
      "cell_type": "code",
      "source": [
        "from sklearn.model_selection import train_test_split\n",
        "\n",
        "# Split data into training and testing sets\n",
        "train_df, test_df = train_test_split(df, test_size=0.2, random_state=42)\n",
        "\n",
        "# Fit the model using training data\n",
        "tfidf = TfidfVectorizer(analyzer='word', stop_words='english')\n",
        "matrix_train = tfidf.fit_transform(train_df['text'])\n",
        "similar_train = cosine_similarity(matrix_train)\n",
        "\n",
        "# Evaluate accuracy on the testing set\n",
        "correct_predictions = 0\n",
        "total_predictions = 0\n",
        "\n",
        "for index, row in test_df.iterrows():\n",
        "    actual_song = row['song']\n",
        "    recommendations = recommender(row['song'])\n",
        "\n",
        "    # Check if actual song is in recommendations\n",
        "    if actual_song in recommendations:\n",
        "        correct_predictions += 1\n",
        "\n",
        "    total_predictions += 1\n",
        "\n",
        "# Calculate accuracy\n",
        "accuracy = correct_predictions / total_predictions\n",
        "print(f\"Accuracy of the recommender system: {accuracy * 100:.2f}%\")\n"
      ],
      "metadata": {
        "colab": {
          "base_uri": "https://localhost:8080/"
        },
        "id": "QdAPr-BsiLUT",
        "outputId": "c777864d-805f-4cec-bfd5-bd3dfd97f779"
      },
      "execution_count": 32,
      "outputs": [
        {
          "output_type": "stream",
          "name": "stdout",
          "text": [
            "Accuracy of the recommender system: 100.00%\n"
          ]
        }
      ]
    }
  ]
}